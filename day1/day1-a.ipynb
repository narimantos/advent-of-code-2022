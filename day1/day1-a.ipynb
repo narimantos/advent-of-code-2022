{
 "cells": [
  {
   "cell_type": "code",
   "execution_count": 2,
   "metadata": {},
   "outputs": [
    {
     "name": "stdout",
     "output_type": "stream",
     "text": [
      "69528.0\n"
     ]
    }
   ],
   "source": [
    "import pandas as pd\n",
    "import numpy as np\n",
    "\n",
    "with open(\"input.txt\") as f:\n",
    "   Elfs = f.read()\n",
    "\n",
    "Elfs = Elfs.split(\"\\n\\n\")\n",
    "Elfs = [lines.split('\\n') for lines in Elfs]\n",
    "\n",
    "df = pd.DataFrame(Elfs).fillna(value=np.nan).replace(np.nan,0).apply(pd.to_numeric)\n",
    "\n",
    "df = df.sum(1).max()\n",
    "print(df)\n",
    "\n",
    "\n"
   ]
  }
 ],
 "metadata": {
  "kernelspec": {
   "display_name": "Python 3.10.8 64-bit (microsoft store)",
   "language": "python",
   "name": "python3"
  },
  "language_info": {
   "codemirror_mode": {
    "name": "ipython",
    "version": 3
   },
   "file_extension": ".py",
   "mimetype": "text/x-python",
   "name": "python",
   "nbconvert_exporter": "python",
   "pygments_lexer": "ipython3",
   "version": "3.10.8"
  },
  "orig_nbformat": 4,
  "vscode": {
   "interpreter": {
    "hash": "ca775999d43db3f7b24b36f8f08ca2e926036593e0af3ff8fc2ba8c82106cb09"
   }
  }
 },
 "nbformat": 4,
 "nbformat_minor": 2
}
