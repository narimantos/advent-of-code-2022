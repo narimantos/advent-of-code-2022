{
 "cells": [
  {
   "cell_type": "code",
   "execution_count": 5,
   "metadata": {},
   "outputs": [
    {
     "name": "stdout",
     "output_type": "stream",
     "text": [
      "69528.0\n"
     ]
    }
   ],
   "source": [
    "import pandas as pd\n",
    "import numpy as np\n",
    "\n",
    "with open(\"input.txt\") as f:\n",
    "   Elfs = f.read()\n",
    "\n",
    "Elfs = Elfs.split(\"\\n\\n\")\n",
    "Elfs = [lines.split('\\n') for lines in Elfs]\n",
    "\n",
    "df = pd.DataFrame(Elfs).fillna(value=0).apply(pd.to_numeric).sum(1).max()\n",
    "print(df)"
   ]
  }
 ],
 "metadata": {
  "language_info": {
   "name": "python"
  },
  "orig_nbformat": 4
 },
 "nbformat": 4,
 "nbformat_minor": 2
}
