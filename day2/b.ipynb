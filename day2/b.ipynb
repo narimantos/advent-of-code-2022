{
 "cells": [
  {
   "cell_type": "markdown",
   "metadata": {},
   "source": [
    "```\n",
    "A for Rock\n",
    "B for Paper\n",
    "C for Scissors\n",
    "\n",
    "X for lose\n",
    "Y for draw\n",
    "Z for win\n",
    "\n",
    "points\n",
    "1 for Rock X\n",
    "2 for Paper Y\n",
    "3 for Scissors Z\n",
    "\n",
    "win 6\n",
    "draw 3\n",
    "lose 0\n",
    "\n",
    "```"
   ]
  },
  {
   "cell_type": "code",
   "execution_count": 4,
   "metadata": {},
   "outputs": [
    {
     "name": "stdout",
     "output_type": "stream",
     "text": [
      "15442\n"
     ]
    }
   ],
   "source": [
    "import pandas as pd\n",
    "import numpy as np\n",
    "\n",
    "with open(\"input2.txt\") as f:\n",
    "   Input = f.read()\n",
    "\n",
    "Input = Input.split(\"\\n\",)\n",
    "Input = [lines.split('\\n') for lines in Input]\n",
    "\n",
    "rounds = []\n",
    "for a in Input:\n",
    "    for b in a:\n",
    "        rounds.append(b.split(\" \"))\n",
    "\n",
    "for a in rounds:\n",
    "    if a[1] == \"X\":\n",
    "        a.append(0)\n",
    "    if a[1] == \"Y\":\n",
    "        a.append(3)\n",
    "    if a[1] == \"Z\":\n",
    "        a.append(6)\n",
    "\n",
    "for a in rounds:\n",
    "    if a[1] == \"X\" and a[0] == \"A\":\n",
    "        a[1] = \"C\"\n",
    "    if a[1] == \"X\" and a[0] == \"B\":\n",
    "        a[1] = \"A\"\n",
    "    if a[1] == \"X\" and a[0] == \"C\":\n",
    "        a[1] = \"B\"\n",
    "\n",
    "    if a[1] == \"Y\" and a[0] == \"A\":\n",
    "        a[1] = \"A\"\n",
    "    if a[1] == \"Y\" and a[0] == \"B\":\n",
    "        a[1] = \"B\"\n",
    "    if a[1] == \"Y\" and a[0] == \"C\":\n",
    "        a[1] = \"C\"\n",
    "\n",
    "    if a[1] == \"Z\" and a[0] == \"A\":\n",
    "        a[1] = \"B\"\n",
    "    if a[1] == \"Z\" and a[0] == \"B\":\n",
    "        a[1] = \"C\"\n",
    "    if a[1] == \"Z\" and a[0] == \"C\":\n",
    "        a[1] = \"A\"\n",
    "\n",
    "for a in rounds:\n",
    "    if a[1] == \"A\":\n",
    "        a[2] += 1\n",
    "    if a[1] == \"B\":\n",
    "        a[2] += 2\n",
    "    if a[1] == \"C\":\n",
    "        a[2] += 3\n",
    "\n",
    "score = 0\n",
    "for a in rounds:\n",
    "    score += a[2]\n",
    "\n",
    "print(score)"
   ]
  }
 ],
 "metadata": {
  "kernelspec": {
   "display_name": "Python 3.10.6 64-bit",
   "language": "python",
   "name": "python3"
  },
  "language_info": {
   "codemirror_mode": {
    "name": "ipython",
    "version": 3
   },
   "file_extension": ".py",
   "mimetype": "text/x-python",
   "name": "python",
   "nbconvert_exporter": "python",
   "pygments_lexer": "ipython3",
   "version": "3.10.6"
  },
  "orig_nbformat": 4,
  "vscode": {
   "interpreter": {
    "hash": "916dbcbb3f70747c44a77c7bcd40155683ae19c65e1c03b4aa3499c5328201f1"
   }
  }
 },
 "nbformat": 4,
 "nbformat_minor": 2
}
